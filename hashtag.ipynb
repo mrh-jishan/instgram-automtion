{
 "cells": [
  {
   "cell_type": "code",
   "execution_count": 10,
   "id": "052bc42f-cdca-483a-8d54-f5065d753ab7",
   "metadata": {},
   "outputs": [
    {
     "name": "stdout",
     "output_type": "stream",
     "text": [
      "Requirement already satisfied: spacy in /Users/robin-hassan/.pyenv/versions/3.10.0/lib/python3.10/site-packages (3.3.1)\n",
      "Requirement already satisfied: cymem<2.1.0,>=2.0.2 in /Users/robin-hassan/.pyenv/versions/3.10.0/lib/python3.10/site-packages (from spacy) (2.0.6)\n",
      "Requirement already satisfied: jinja2 in /Users/robin-hassan/.pyenv/versions/3.10.0/lib/python3.10/site-packages (from spacy) (3.1.2)\n",
      "Requirement already satisfied: langcodes<4.0.0,>=3.2.0 in /Users/robin-hassan/.pyenv/versions/3.10.0/lib/python3.10/site-packages (from spacy) (3.3.0)\n",
      "Requirement already satisfied: spacy-loggers<2.0.0,>=1.0.0 in /Users/robin-hassan/.pyenv/versions/3.10.0/lib/python3.10/site-packages (from spacy) (1.0.2)\n",
      "Requirement already satisfied: numpy>=1.15.0 in /Users/robin-hassan/.pyenv/versions/3.10.0/lib/python3.10/site-packages (from spacy) (1.22.4)\n",
      "Requirement already satisfied: typer<0.5.0,>=0.3.0 in /Users/robin-hassan/.pyenv/versions/3.10.0/lib/python3.10/site-packages (from spacy) (0.4.1)\n",
      "Requirement already satisfied: pathy>=0.3.5 in /Users/robin-hassan/.pyenv/versions/3.10.0/lib/python3.10/site-packages (from spacy) (0.6.1)\n",
      "Requirement already satisfied: spacy-legacy<3.1.0,>=3.0.9 in /Users/robin-hassan/.pyenv/versions/3.10.0/lib/python3.10/site-packages (from spacy) (3.0.9)\n",
      "Requirement already satisfied: catalogue<2.1.0,>=2.0.6 in /Users/robin-hassan/.pyenv/versions/3.10.0/lib/python3.10/site-packages (from spacy) (2.0.7)\n",
      "Requirement already satisfied: requests<3.0.0,>=2.13.0 in /Users/robin-hassan/.pyenv/versions/3.10.0/lib/python3.10/site-packages (from spacy) (2.28.0)\n",
      "Requirement already satisfied: tqdm<5.0.0,>=4.38.0 in /Users/robin-hassan/.pyenv/versions/3.10.0/lib/python3.10/site-packages (from spacy) (4.64.0)\n",
      "Requirement already satisfied: packaging>=20.0 in /Users/robin-hassan/.pyenv/versions/3.10.0/lib/python3.10/site-packages (from spacy) (21.3)\n",
      "Requirement already satisfied: pydantic!=1.8,!=1.8.1,<1.9.0,>=1.7.4 in /Users/robin-hassan/.pyenv/versions/3.10.0/lib/python3.10/site-packages (from spacy) (1.8.2)\n",
      "Requirement already satisfied: srsly<3.0.0,>=2.4.3 in /Users/robin-hassan/.pyenv/versions/3.10.0/lib/python3.10/site-packages (from spacy) (2.4.3)\n",
      "Requirement already satisfied: wasabi<1.1.0,>=0.9.1 in /Users/robin-hassan/.pyenv/versions/3.10.0/lib/python3.10/site-packages (from spacy) (0.9.1)\n",
      "Requirement already satisfied: blis<0.8.0,>=0.4.0 in /Users/robin-hassan/.pyenv/versions/3.10.0/lib/python3.10/site-packages (from spacy) (0.7.7)\n",
      "Requirement already satisfied: murmurhash<1.1.0,>=0.28.0 in /Users/robin-hassan/.pyenv/versions/3.10.0/lib/python3.10/site-packages (from spacy) (1.0.7)\n",
      "Requirement already satisfied: thinc<8.1.0,>=8.0.14 in /Users/robin-hassan/.pyenv/versions/3.10.0/lib/python3.10/site-packages (from spacy) (8.0.17)\n",
      "Requirement already satisfied: preshed<3.1.0,>=3.0.2 in /Users/robin-hassan/.pyenv/versions/3.10.0/lib/python3.10/site-packages (from spacy) (3.0.6)\n",
      "Requirement already satisfied: setuptools in /Users/robin-hassan/.pyenv/versions/3.10.0/lib/python3.10/site-packages (from spacy) (57.4.0)\n",
      "Requirement already satisfied: pyparsing!=3.0.5,>=2.0.2 in /Users/robin-hassan/.pyenv/versions/3.10.0/lib/python3.10/site-packages (from packaging>=20.0->spacy) (3.0.9)\n",
      "Requirement already satisfied: smart-open<6.0.0,>=5.0.0 in /Users/robin-hassan/.pyenv/versions/3.10.0/lib/python3.10/site-packages (from pathy>=0.3.5->spacy) (5.2.1)\n",
      "Requirement already satisfied: typing-extensions>=3.7.4.3 in /Users/robin-hassan/.pyenv/versions/3.10.0/lib/python3.10/site-packages (from pydantic!=1.8,!=1.8.1,<1.9.0,>=1.7.4->spacy) (4.2.0)\n",
      "Requirement already satisfied: idna<4,>=2.5 in /Users/robin-hassan/.pyenv/versions/3.10.0/lib/python3.10/site-packages (from requests<3.0.0,>=2.13.0->spacy) (3.3)\n",
      "Requirement already satisfied: certifi>=2017.4.17 in /Users/robin-hassan/.pyenv/versions/3.10.0/lib/python3.10/site-packages (from requests<3.0.0,>=2.13.0->spacy) (2022.6.15)\n",
      "Requirement already satisfied: charset-normalizer~=2.0.0 in /Users/robin-hassan/.pyenv/versions/3.10.0/lib/python3.10/site-packages (from requests<3.0.0,>=2.13.0->spacy) (2.0.12)\n",
      "Requirement already satisfied: urllib3<1.27,>=1.21.1 in /Users/robin-hassan/.pyenv/versions/3.10.0/lib/python3.10/site-packages (from requests<3.0.0,>=2.13.0->spacy) (1.26.9)\n",
      "Requirement already satisfied: click<9.0.0,>=7.1.1 in /Users/robin-hassan/.pyenv/versions/3.10.0/lib/python3.10/site-packages (from typer<0.5.0,>=0.3.0->spacy) (8.1.3)\n",
      "Requirement already satisfied: MarkupSafe>=2.0 in /Users/robin-hassan/.pyenv/versions/3.10.0/lib/python3.10/site-packages (from jinja2->spacy) (2.1.1)\n",
      "Note: you may need to restart the kernel to use updated packages.\n"
     ]
    }
   ],
   "source": [
    "%pip install spacy"
   ]
  },
  {
   "cell_type": "code",
   "execution_count": 17,
   "id": "09e3df28-2fb9-43ec-b874-b42223ddb264",
   "metadata": {},
   "outputs": [],
   "source": [
    "import spacy\n",
    "\n",
    "from collections import Counter\n",
    "from string import punctuation\n",
    "import en_core_web_lg\n",
    "\n",
    "nlp = spacy.load(\"en_core_web_lg\")\n",
    "\n",
    "nlp = en_core_web_lg.load()"
   ]
  },
  {
   "cell_type": "code",
   "execution_count": 18,
   "id": "70b7aa74-d214-4902-95a1-4c0c9c775874",
   "metadata": {},
   "outputs": [],
   "source": [
    "def get_hotwords(text):\n",
    "    result = []\n",
    "    pos_tag = ['PROPN', 'ADJ', 'NOUN'] # 1\n",
    "    doc = nlp(text.lower()) # 2\n",
    "    for token in doc:\n",
    "        # 3\n",
    "        if(token.text in nlp.Defaults.stop_words or token.text in punctuation):\n",
    "            continue\n",
    "        # 4\n",
    "        if(token.pos_ in pos_tag):\n",
    "            result.append(token.text)\n",
    "    return result # 5"
   ]
  },
  {
   "cell_type": "code",
   "execution_count": 30,
   "id": "6183f248-106d-44e3-b91f-ec2b5b50e9e4",
   "metadata": {},
   "outputs": [
    {
     "name": "stdout",
     "output_type": "stream",
     "text": [
      "Collecting pandas\n",
      "  Downloading pandas-1.4.2-cp310-cp310-macosx_10_9_x86_64.whl (11.1 MB)\n",
      "\u001b[2K     \u001b[90m━━━━━━━━━━━━━━━━━━━━━━━━━━━━━━━━━━━━━━━━\u001b[0m \u001b[32m11.1/11.1 MB\u001b[0m \u001b[31m21.5 MB/s\u001b[0m eta \u001b[36m0:00:00\u001b[0m00:01\u001b[0m00:01\u001b[0m\n",
      "\u001b[?25hRequirement already satisfied: numpy>=1.21.0 in /Users/robin-hassan/.pyenv/versions/3.10.0/lib/python3.10/site-packages (from pandas) (1.22.4)\n",
      "Requirement already satisfied: python-dateutil>=2.8.1 in /Users/robin-hassan/.pyenv/versions/3.10.0/lib/python3.10/site-packages (from pandas) (2.8.2)\n",
      "Requirement already satisfied: pytz>=2020.1 in /Users/robin-hassan/.pyenv/versions/3.10.0/lib/python3.10/site-packages (from pandas) (2022.1)\n",
      "Requirement already satisfied: six>=1.5 in /Users/robin-hassan/.pyenv/versions/3.10.0/lib/python3.10/site-packages (from python-dateutil>=2.8.1->pandas) (1.16.0)\n",
      "Installing collected packages: pandas\n",
      "Successfully installed pandas-1.4.2\n",
      "Note: you may need to restart the kernel to use updated packages.\n"
     ]
    }
   ],
   "source": [
    "%pip install pandas"
   ]
  },
  {
   "cell_type": "code",
   "execution_count": 42,
   "id": "76048173-ba93-41b0-82fa-902491470b38",
   "metadata": {},
   "outputs": [
    {
     "name": "stdout",
     "output_type": "stream",
     "text": [
      "['beautiful', 'weather', 'today']\n"
     ]
    }
   ],
   "source": [
    "output = get_hotwords('''beautiful weather today''')\n",
    "print(output)\n",
    "\n",
    "\n"
   ]
  },
  {
   "cell_type": "code",
   "execution_count": 43,
   "id": "9cbbadd4-9e6c-4336-9f0b-e376e170e8d8",
   "metadata": {},
   "outputs": [],
   "source": [
    "prefix_ADD = '#'\n",
    "new_list = [prefix_ADD + x for x in output if isinstance(x, str)]"
   ]
  },
  {
   "cell_type": "code",
   "execution_count": 44,
   "id": "1aaecbe3-354b-4fbc-8a50-35d143e44ae4",
   "metadata": {},
   "outputs": [
    {
     "name": "stdout",
     "output_type": "stream",
     "text": [
      "['#beautiful', '#weather', '#today']\n"
     ]
    }
   ],
   "source": [
    "print(new_list)"
   ]
  },
  {
   "cell_type": "code",
   "execution_count": 47,
   "id": "a56f8cbb-17e7-44aa-9f22-ab0064a973c8",
   "metadata": {},
   "outputs": [
    {
     "name": "stdout",
     "output_type": "stream",
     "text": [
      "#beautiful, #weather, #today\n"
     ]
    }
   ],
   "source": [
    "hash_tags = ', '.join(new_list)\n",
    "print(hash_tags)"
   ]
  }
 ],
 "metadata": {
  "kernelspec": {
   "display_name": "Python 3 (ipykernel)",
   "language": "python",
   "name": "python3"
  },
  "language_info": {
   "codemirror_mode": {
    "name": "ipython",
    "version": 3
   },
   "file_extension": ".py",
   "mimetype": "text/x-python",
   "name": "python",
   "nbconvert_exporter": "python",
   "pygments_lexer": "ipython3",
   "version": "3.10.0"
  }
 },
 "nbformat": 4,
 "nbformat_minor": 5
}
