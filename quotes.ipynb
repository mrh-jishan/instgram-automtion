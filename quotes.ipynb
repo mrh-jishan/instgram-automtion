{
 "cells": [
  {
   "cell_type": "code",
   "execution_count": 1,
   "id": "abeb6576-9fd1-4d1a-9e07-947144cdfab6",
   "metadata": {},
   "outputs": [
    {
     "name": "stdout",
     "output_type": "stream",
     "text": [
      "Requirement already satisfied: requests in /Users/robin-hassan/.pyenv/versions/3.10.0/lib/python3.10/site-packages (2.28.0)\n",
      "Requirement already satisfied: charset-normalizer~=2.0.0 in /Users/robin-hassan/.pyenv/versions/3.10.0/lib/python3.10/site-packages (from requests) (2.0.12)\n",
      "Requirement already satisfied: idna<4,>=2.5 in /Users/robin-hassan/.pyenv/versions/3.10.0/lib/python3.10/site-packages (from requests) (3.3)\n",
      "Requirement already satisfied: certifi>=2017.4.17 in /Users/robin-hassan/.pyenv/versions/3.10.0/lib/python3.10/site-packages (from requests) (2022.6.15)\n",
      "Requirement already satisfied: urllib3<1.27,>=1.21.1 in /Users/robin-hassan/.pyenv/versions/3.10.0/lib/python3.10/site-packages (from requests) (1.26.9)\n",
      "Note: you may need to restart the kernel to use updated packages.\n"
     ]
    }
   ],
   "source": [
    "%pip install requests"
   ]
  },
  {
   "cell_type": "code",
   "execution_count": 7,
   "id": "79fbc012-a5bb-429a-82d0-f7ac15d61467",
   "metadata": {},
   "outputs": [
    {
     "name": "stdout",
     "output_type": "stream",
     "text": [
      "Never apologize for showing feelings. When you do so, you apologize for the truth.\n"
     ]
    }
   ],
   "source": [
    "import requests\n",
    "response = requests.get(\"https://api.quotable.io/random\")\n",
    "print(response.json()[\"content\"])"
   ]
  },
  {
   "cell_type": "code",
   "execution_count": 9,
   "id": "c6e63eb8-ef8b-4aa5-b682-ed6c9cfeae5a",
   "metadata": {},
   "outputs": [
    {
     "name": "stdout",
     "output_type": "stream",
     "text": [
      "{'q': 'Life and death are of supreme importance. Time swiftly passes by and opportunity is lost.', 'a': 'Dogen', 'h': '<blockquote>&ldquo;Life and death are of supreme importance. Time swiftly passes by and opportunity is lost.&rdquo; &mdash; <footer>Dogen</footer></blockquote>'}\n"
     ]
    }
   ],
   "source": [
    "import requests\n",
    "response = requests.get(\"https://zenquotes.io/api/random\")\n",
    "print(response.json()[0])"
   ]
  }
 ],
 "metadata": {
  "kernelspec": {
   "display_name": "Python 3 (ipykernel)",
   "language": "python",
   "name": "python3"
  },
  "language_info": {
   "codemirror_mode": {
    "name": "ipython",
    "version": 3
   },
   "file_extension": ".py",
   "mimetype": "text/x-python",
   "name": "python",
   "nbconvert_exporter": "python",
   "pygments_lexer": "ipython3",
   "version": "3.10.0"
  }
 },
 "nbformat": 4,
 "nbformat_minor": 5
}
