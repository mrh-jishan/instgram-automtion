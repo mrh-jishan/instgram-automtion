{
 "cells": [
  {
   "cell_type": "code",
   "execution_count": 4,
   "id": "4111c52d-de9f-4109-9737-61ced5f4bb55",
   "metadata": {},
   "outputs": [
    {
     "name": "stdout",
     "output_type": "stream",
     "text": [
      "Requirement already satisfied: instagrapi in /Users/robin-hassan/.pyenv/versions/3.10.0/lib/python3.10/site-packages (1.16.20)\n",
      "Requirement already satisfied: requests<3.0,>=2.25.1 in /Users/robin-hassan/.pyenv/versions/3.10.0/lib/python3.10/site-packages (from instagrapi) (2.28.0)\n",
      "Requirement already satisfied: PySocks==1.7.1 in /Users/robin-hassan/.pyenv/versions/3.10.0/lib/python3.10/site-packages (from instagrapi) (1.7.1)\n",
      "Requirement already satisfied: pydantic==1.9.1 in /Users/robin-hassan/.pyenv/versions/3.10.0/lib/python3.10/site-packages (from instagrapi) (1.9.1)\n",
      "Requirement already satisfied: pycryptodomex==3.14.1 in /Users/robin-hassan/.pyenv/versions/3.10.0/lib/python3.10/site-packages (from instagrapi) (3.14.1)\n",
      "Requirement already satisfied: typing-extensions>=3.7.4.3 in /Users/robin-hassan/.pyenv/versions/3.10.0/lib/python3.10/site-packages (from pydantic==1.9.1->instagrapi) (4.2.0)\n",
      "Requirement already satisfied: urllib3<1.27,>=1.21.1 in /Users/robin-hassan/.pyenv/versions/3.10.0/lib/python3.10/site-packages (from requests<3.0,>=2.25.1->instagrapi) (1.26.9)\n",
      "Requirement already satisfied: certifi>=2017.4.17 in /Users/robin-hassan/.pyenv/versions/3.10.0/lib/python3.10/site-packages (from requests<3.0,>=2.25.1->instagrapi) (2022.6.15)\n",
      "Requirement already satisfied: charset-normalizer~=2.0.0 in /Users/robin-hassan/.pyenv/versions/3.10.0/lib/python3.10/site-packages (from requests<3.0,>=2.25.1->instagrapi) (2.0.12)\n",
      "Requirement already satisfied: idna<4,>=2.5 in /Users/robin-hassan/.pyenv/versions/3.10.0/lib/python3.10/site-packages (from requests<3.0,>=2.25.1->instagrapi) (3.3)\n",
      "Note: you may need to restart the kernel to use updated packages.\n",
      "Collecting Pillow\n",
      "  Downloading Pillow-9.1.1-cp310-cp310-macosx_10_10_x86_64.whl (3.1 MB)\n",
      "\u001b[2K     \u001b[90m━━━━━━━━━━━━━━━━━━━━━━━━━━━━━━━━━━━━━━━━\u001b[0m \u001b[32m3.1/3.1 MB\u001b[0m \u001b[31m18.7 MB/s\u001b[0m eta \u001b[36m0:00:00\u001b[0m00:01\u001b[0m00:01\u001b[0m\n",
      "\u001b[?25hInstalling collected packages: Pillow\n",
      "Successfully installed Pillow-9.1.1\n",
      "Note: you may need to restart the kernel to use updated packages.\n"
     ]
    }
   ],
   "source": [
    "%pip install instagrapi\n",
    "%pip install Pillow"
   ]
  },
  {
   "cell_type": "code",
   "execution_count": 5,
   "id": "af9a5997-44c8-4aba-956d-797a61eea4b7",
   "metadata": {},
   "outputs": [
    {
     "name": "stderr",
     "output_type": "stream",
     "text": [
      "Status 429: Too many requests\n",
      "Ignore 429: Continue login\n"
     ]
    },
    {
     "data": {
      "text/plain": [
       "{'pk': '48209011136',\n",
       " 'username': 'roin4roin',\n",
       " 'full_name': 'rbn',\n",
       " 'is_private': False,\n",
       " 'profile_pic_url': HttpUrl('https://instagram.fbog11-1.fna.fbcdn.net/v/t51.2885-19/44884218_345707102882519_2446069589734326272_n.jpg?_nc_ht=instagram.fbog11-1.fna.fbcdn.net&_nc_cat=1&_nc_ohc=gmuLQw7Oln8AX_JZc2g&edm=ALlQn9MBAAAA&ccb=7-5&ig_cache_key=YW5vbnltb3VzX3Byb2ZpbGVfcGlj.2-ccb7-5&oh=00_AT_8uc1k6G5tfahA9crXqm4coqZrYMi9p5KyGqRarjMlMw&oe=62B51E0F&_nc_sid=48a2a6', scheme='https', host='instagram.fbog11-1.fna.fbcdn.net', tld='net', host_type='domain', port='443', path='/v/t51.2885-19/44884218_345707102882519_2446069589734326272_n.jpg', query='_nc_ht=instagram.fbog11-1.fna.fbcdn.net&_nc_cat=1&_nc_ohc=gmuLQw7Oln8AX_JZc2g&edm=ALlQn9MBAAAA&ccb=7-5&ig_cache_key=YW5vbnltb3VzX3Byb2ZpbGVfcGlj.2-ccb7-5&oh=00_AT_8uc1k6G5tfahA9crXqm4coqZrYMi9p5KyGqRarjMlMw&oe=62B51E0F&_nc_sid=48a2a6'),\n",
       " 'is_verified': False,\n",
       " 'biography': '',\n",
       " 'external_url': None,\n",
       " 'is_business': False,\n",
       " 'birthday': '1996-10-27',\n",
       " 'phone_number': '',\n",
       " 'gender': 1,\n",
       " 'email': 'roin4roin@gmail.com'}"
      ]
     },
     "execution_count": 5,
     "metadata": {},
     "output_type": "execute_result"
    }
   ],
   "source": [
    "from instagrapi import Client\n",
    "cl = Client()\n",
    "cl.login(\"roin4roin\", \"Luner12102\")\n",
    "cl.account_info().dict()\n"
   ]
  },
  {
   "cell_type": "code",
   "execution_count": 10,
   "id": "1553aa9d-4616-4f71-9df8-f215cf5fc482",
   "metadata": {},
   "outputs": [],
   "source": [
    "media = cl.photo_upload(\n",
    "    \"drawn_image.jpg\",\n",
    "    \"Test caption for photo with #hashtags and mention users such @adw0rd\",\n",
    "    extra_data={\n",
    "        \"custom_accessibility_caption\": \"alt text example\",\n",
    "        \"like_and_view_counts_disabled\": 1,\n",
    "        \"disable_comments\": 1,\n",
    "    }\n",
    ")"
   ]
  }
 ],
 "metadata": {
  "kernelspec": {
   "display_name": "Python 3 (ipykernel)",
   "language": "python",
   "name": "python3"
  },
  "language_info": {
   "codemirror_mode": {
    "name": "ipython",
    "version": 3
   },
   "file_extension": ".py",
   "mimetype": "text/x-python",
   "name": "python",
   "nbconvert_exporter": "python",
   "pygments_lexer": "ipython3",
   "version": "3.10.0"
  }
 },
 "nbformat": 4,
 "nbformat_minor": 5
}
