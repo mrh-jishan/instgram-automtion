{
 "cells": [
  {
   "cell_type": "code",
   "execution_count": 4,
   "id": "f0646b87-64a7-41eb-a9bd-be40d6a91676",
   "metadata": {},
   "outputs": [],
   "source": [
    "from pynter import generate_captioned\n",
    "font_path = './Roboto/Roboto-Regular.ttf'\n",
    "image_path = './image_name.jpg'\n",
    "im = generate_captioned('China lands rover on Mars', image_path=image_path, size=(1080, 1350), font_path=font_path, filter_color=(0, 0, 0, 40))\n",
    "# im.show()\n",
    "im.convert('RGB').save('drawn_image.jpg')"
   ]
  }
 ],
 "metadata": {
  "kernelspec": {
   "display_name": "Python 3 (ipykernel)",
   "language": "python",
   "name": "python3"
  },
  "language_info": {
   "codemirror_mode": {
    "name": "ipython",
    "version": 3
   },
   "file_extension": ".py",
   "mimetype": "text/x-python",
   "name": "python",
   "nbconvert_exporter": "python",
   "pygments_lexer": "ipython3",
   "version": "3.10.0"
  }
 },
 "nbformat": 4,
 "nbformat_minor": 5
}
