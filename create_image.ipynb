{
 "cells": [
  {
   "cell_type": "code",
   "execution_count": 18,
   "id": "f228eebb-e650-4b38-bc1f-3beee73adf31",
   "metadata": {},
   "outputs": [
    {
     "name": "stdout",
     "output_type": "stream",
     "text": [
      "Requirement already satisfied: requests in /Users/robin-hassan/.pyenv/versions/3.10.0/lib/python3.10/site-packages (2.28.0)\n",
      "Requirement already satisfied: pillow in /Users/robin-hassan/.pyenv/versions/3.10.0/lib/python3.10/site-packages (9.1.1)\n",
      "Requirement already satisfied: pyunsplash in /Users/robin-hassan/.pyenv/versions/3.10.0/lib/python3.10/site-packages (1.0.0rc2)\n",
      "Requirement already satisfied: python-dotenv in /Users/robin-hassan/.pyenv/versions/3.10.0/lib/python3.10/site-packages (0.20.0)\n",
      "Requirement already satisfied: urllib3<1.27,>=1.21.1 in /Users/robin-hassan/.pyenv/versions/3.10.0/lib/python3.10/site-packages (from requests) (1.26.9)\n",
      "Requirement already satisfied: certifi>=2017.4.17 in /Users/robin-hassan/.pyenv/versions/3.10.0/lib/python3.10/site-packages (from requests) (2022.6.15)\n",
      "Requirement already satisfied: idna<4,>=2.5 in /Users/robin-hassan/.pyenv/versions/3.10.0/lib/python3.10/site-packages (from requests) (3.3)\n",
      "Requirement already satisfied: charset-normalizer~=2.0.0 in /Users/robin-hassan/.pyenv/versions/3.10.0/lib/python3.10/site-packages (from requests) (2.0.12)\n",
      "Note: you may need to restart the kernel to use updated packages.\n"
     ]
    }
   ],
   "source": [
    "%pip install requests pillow pyunsplash python-dotenv\n"
   ]
  },
  {
   "cell_type": "code",
   "execution_count": 34,
   "id": "b90b574d-8a67-4541-9204-85a1d6557694",
   "metadata": {},
   "outputs": [
    {
     "name": "stdout",
     "output_type": "stream",
     "text": [
      "UNSPLASH_ACCESS_KEY: BO7xKCwwnSD_kjoU_vHek7s3nz30RORiafeZ64jZyWU\n"
     ]
    }
   ],
   "source": [
    "# Load in the required dotenv vars\n",
    "import os\n",
    "from os.path import join, dirname, abspath\n",
    "from dotenv import load_dotenv\n",
    "\n",
    "dotenv_path = join(dirname(abspath(\"__file__\")), '.env')\n",
    "load_dotenv(dotenv_path)\n",
    "\n",
    "UNSPLASH_ACCESS_KEY = os.environ.get(\"UNSPLASH_ACCESS_KEY\")\n",
    "\n",
    "print(f\"UNSPLASH_ACCESS_KEY: {UNSPLASH_ACCESS_KEY}\")\n"
   ]
  },
  {
   "cell_type": "code",
   "execution_count": 36,
   "id": "400a543e-a308-41da-8c8a-71526b51574b",
   "metadata": {},
   "outputs": [
    {
     "name": "stdout",
     "output_type": "stream",
     "text": [
      "IeRgPDoPpzU https://unsplash.com/photos/IeRgPDoPpzU/download?ixid=MnwzMzkxMzV8MHwxfHJhbmRvbXx8fHx8fHx8fDE2NTU1NzE3ODA\n"
     ]
    }
   ],
   "source": [
    "from pyunsplash import PyUnsplash\n",
    "import logging\n",
    "\n",
    "logger = logging.getLogger()\n",
    "logging.basicConfig(level=logging.INFO)\n",
    "\n",
    "# instantiate PyUnsplash object\n",
    "pu = PyUnsplash(api_key=UNSPLASH_ACCESS_KEY)\n",
    "\n",
    "\n",
    "photos = pu.photos(type_='random', count=1, featured=True, query=\"splash\")\n",
    "[photo] = photos.entries\n",
    "print(photo.id, photo.link_download)"
   ]
  },
  {
   "cell_type": "code",
   "execution_count": 37,
   "id": "ca5fe21b-4c7a-409b-a23b-15526e2da461",
   "metadata": {},
   "outputs": [],
   "source": [
    "import requests\n",
    "\n",
    "img_data = requests.get(photo.link_download).content\n",
    "with open('image_name.jpg', 'wb') as handler:\n",
    "    handler.write(img_data)"
   ]
  }
 ],
 "metadata": {
  "kernelspec": {
   "display_name": "Python 3 (ipykernel)",
   "language": "python",
   "name": "python3"
  },
  "language_info": {
   "codemirror_mode": {
    "name": "ipython",
    "version": 3
   },
   "file_extension": ".py",
   "mimetype": "text/x-python",
   "name": "python",
   "nbconvert_exporter": "python",
   "pygments_lexer": "ipython3",
   "version": "3.10.0"
  }
 },
 "nbformat": 4,
 "nbformat_minor": 5
}
